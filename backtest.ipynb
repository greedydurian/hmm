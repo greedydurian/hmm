{
 "cells": [
  {
   "cell_type": "code",
   "execution_count": 5,
   "metadata": {},
   "outputs": [],
   "source": [
    "import pandas as pd\n",
    "import numpy as np\n",
    "import yfinance as yf\n",
    "\n",
    "tickers = ['MMM', 'SHOP', 'SAIA', 'AOS', 'ABT', 'ABBV', 'ACN', 'ADM', 'ADBE']\n",
    "momentum_returns_df = pd.DataFrame()\n",
    "\n",
    "for ticker in tickers:\n",
    "    tickerData = yf.Ticker(ticker)\n",
    "    tickerDf = tickerData.history(period='1d', start='2020-01-01', end='2023-11-16')\n",
    "\n",
    "    tickerDf['Pct_Change'] = tickerDf['Close'].pct_change() * 100\n",
    "\n",
    "    if tickerDf['Pct_Change'].abs().max() > 15:\n",
    "        continue  # Skip this ticker if any day's move is greater than 15%\n",
    "    tickerDf.dropna(inplace=True)  \n",
    "\n",
    "    # Calculate 6-month momentum\n",
    "    tickerDf['6M_Momentum'] = tickerDf['Close'].pct_change(periods=6*30)  # Assuming ~30 days per month\n",
    "\n",
    "    # Get the latest 6-month momentum value\n",
    "    latest_momentum = tickerDf['6M_Momentum'].iloc[-1]\n",
    "\n",
    "    # Create a temporary DataFrame and append it\n",
    "    temp_df = pd.DataFrame({'Ticker': [ticker], '6M_Momentum': [latest_momentum]})\n",
    "    momentum_returns_df = pd.concat([momentum_returns_df, temp_df], ignore_index=True)\n",
    "\n",
    "# Rank stocks by their momentum\n",
    "momentum_returns_df.sort_values(by='6M_Momentum', ascending=False, inplace=True)\n"
   ]
  },
  {
   "cell_type": "code",
   "execution_count": 6,
   "metadata": {},
   "outputs": [
    {
     "ename": "AttributeError",
     "evalue": "'DataFrame' object has no attribute 'append'",
     "output_type": "error",
     "traceback": [
      "\u001b[1;31m---------------------------------------------------------------------------\u001b[0m",
      "\u001b[1;31mAttributeError\u001b[0m                            Traceback (most recent call last)",
      "\u001b[1;32m~\\AppData\\Local\\Temp\\ipykernel_24268\\83311744.py\u001b[0m in \u001b[0;36m?\u001b[1;34m()\u001b[0m\n\u001b[0;32m     15\u001b[0m         \u001b[0mend_price\u001b[0m \u001b[1;33m=\u001b[0m \u001b[0mbacktest_data\u001b[0m\u001b[1;33m[\u001b[0m\u001b[1;34m'Close'\u001b[0m\u001b[1;33m]\u001b[0m\u001b[1;33m.\u001b[0m\u001b[0miloc\u001b[0m\u001b[1;33m[\u001b[0m\u001b[1;33m-\u001b[0m\u001b[1;36m1\u001b[0m\u001b[1;33m]\u001b[0m\u001b[1;33m\u001b[0m\u001b[1;33m\u001b[0m\u001b[0m\n\u001b[0;32m     16\u001b[0m         \u001b[0mperformance\u001b[0m \u001b[1;33m=\u001b[0m \u001b[1;33m(\u001b[0m\u001b[0mend_price\u001b[0m \u001b[1;33m-\u001b[0m \u001b[0mstart_price\u001b[0m\u001b[1;33m)\u001b[0m \u001b[1;33m/\u001b[0m \u001b[0mstart_price\u001b[0m\u001b[1;33m\u001b[0m\u001b[1;33m\u001b[0m\u001b[0m\n\u001b[0;32m     17\u001b[0m \u001b[1;33m\u001b[0m\u001b[0m\n\u001b[0;32m     18\u001b[0m         \u001b[1;31m# Add the results to the DataFrame\u001b[0m\u001b[1;33m\u001b[0m\u001b[1;33m\u001b[0m\u001b[0m\n\u001b[1;32m---> 19\u001b[1;33m         \u001b[0mbacktest_results\u001b[0m \u001b[1;33m=\u001b[0m \u001b[0mbacktest_results\u001b[0m\u001b[1;33m.\u001b[0m\u001b[0mappend\u001b[0m\u001b[1;33m(\u001b[0m\u001b[1;33m{\u001b[0m\u001b[1;34m'Ticker'\u001b[0m\u001b[1;33m:\u001b[0m \u001b[0mticker\u001b[0m\u001b[1;33m,\u001b[0m \u001b[1;34m'Performance'\u001b[0m\u001b[1;33m:\u001b[0m \u001b[0mperformance\u001b[0m\u001b[1;33m}\u001b[0m\u001b[1;33m,\u001b[0m \u001b[0mignore_index\u001b[0m\u001b[1;33m=\u001b[0m\u001b[1;32mTrue\u001b[0m\u001b[1;33m)\u001b[0m\u001b[1;33m\u001b[0m\u001b[1;33m\u001b[0m\u001b[0m\n\u001b[0m",
      "\u001b[1;32mc:\\Users\\aaron\\OneDrive\\Desktop\\markov\\markov\\Lib\\site-packages\\pandas\\core\\generic.py\u001b[0m in \u001b[0;36m?\u001b[1;34m(self, name)\u001b[0m\n\u001b[0;32m   6200\u001b[0m             \u001b[1;32mand\u001b[0m \u001b[0mname\u001b[0m \u001b[1;32mnot\u001b[0m \u001b[1;32min\u001b[0m \u001b[0mself\u001b[0m\u001b[1;33m.\u001b[0m\u001b[0m_accessors\u001b[0m\u001b[1;33m\u001b[0m\u001b[1;33m\u001b[0m\u001b[0m\n\u001b[0;32m   6201\u001b[0m             \u001b[1;32mand\u001b[0m \u001b[0mself\u001b[0m\u001b[1;33m.\u001b[0m\u001b[0m_info_axis\u001b[0m\u001b[1;33m.\u001b[0m\u001b[0m_can_hold_identifiers_and_holds_name\u001b[0m\u001b[1;33m(\u001b[0m\u001b[0mname\u001b[0m\u001b[1;33m)\u001b[0m\u001b[1;33m\u001b[0m\u001b[1;33m\u001b[0m\u001b[0m\n\u001b[0;32m   6202\u001b[0m         ):\n\u001b[0;32m   6203\u001b[0m             \u001b[1;32mreturn\u001b[0m \u001b[0mself\u001b[0m\u001b[1;33m[\u001b[0m\u001b[0mname\u001b[0m\u001b[1;33m]\u001b[0m\u001b[1;33m\u001b[0m\u001b[1;33m\u001b[0m\u001b[0m\n\u001b[1;32m-> 6204\u001b[1;33m         \u001b[1;32mreturn\u001b[0m \u001b[0mobject\u001b[0m\u001b[1;33m.\u001b[0m\u001b[0m__getattribute__\u001b[0m\u001b[1;33m(\u001b[0m\u001b[0mself\u001b[0m\u001b[1;33m,\u001b[0m \u001b[0mname\u001b[0m\u001b[1;33m)\u001b[0m\u001b[1;33m\u001b[0m\u001b[1;33m\u001b[0m\u001b[0m\n\u001b[0m",
      "\u001b[1;31mAttributeError\u001b[0m: 'DataFrame' object has no attribute 'append'"
     ]
    }
   ],
   "source": [
    "backtest_start_date = '2020-07-01'\n",
    "backtest_end_date = '2021-01-01'\n",
    "\n",
    "# DataFrame to store backtesting results\n",
    "backtest_results = pd.DataFrame()\n",
    "\n",
    "for ticker in tickers:\n",
    "    # Get historical data for the backtesting period\n",
    "    tickerData = yf.Ticker(ticker)\n",
    "    backtest_data = tickerData.history(period='1d', start=backtest_start_date, end=backtest_end_date)\n",
    "\n",
    "    # Calculate performance over the 6-month backtesting period\n",
    "    if not backtest_data.empty:\n",
    "        start_price = backtest_data['Close'].iloc[0]\n",
    "        end_price = backtest_data['Close'].iloc[-1]\n",
    "        performance = (end_price - start_price) / start_price\n",
    "\n",
    "        # Add the results to the DataFrame\n",
    "        backtest_results = backtest_results.append({'Ticker': ticker, 'Performance': performance}, ignore_index=True)\n"
   ]
  },
  {
   "cell_type": "code",
   "execution_count": 15,
   "metadata": {},
   "outputs": [
    {
     "name": "stdout",
     "output_type": "stream",
     "text": [
      "Insufficient data for regression analysis.\n"
     ]
    }
   ],
   "source": [
    "import pandas as pd\n",
    "import numpy as np\n",
    "import yfinance as yf\n",
    "import statsmodels.api as sm\n",
    "\n",
    "tickers = ['MMM', 'SHOP', 'SAIA', 'AOS', 'ABT', 'ABBV', 'ACN', 'ADM', 'ADBE']\n",
    "momentum_return_data = pd.DataFrame()\n",
    "\n",
    "for ticker in tickers:\n",
    "    tickerData = yf.Ticker(ticker)\n",
    "\n",
    "    # Historical data for the first half of 2022\n",
    "    historical_data = tickerData.history(start='2022-01-01', end='2022-06-30')\n",
    "    # Calculate 6-month momentum\n",
    "    historical_data['6M_Momentum'] = historical_data['Close'].pct_change(periods=6*30)\n",
    "    print(historical_data)\n",
    "\n",
    "    # Data for the second half of 2022\n",
    "    future_data = tickerData.history(start='2022-07-01', end='2022-12-31')\n",
    "    print(future_data)\n",
    "    if not future_data.empty and not historical_data.empty:\n",
    "        future_return = (future_data['Close'].iloc[-1] - future_data['Close'].iloc[0]) / future_data['Close'].iloc[0]\n",
    "        latest_momentum = historical_data['6M_Momentum'].iloc[-1]\n",
    "\n",
    "        # Create a DataFrame for the current ticker\n",
    "        temp_df = pd.DataFrame({'Ticker': [ticker],\n",
    "                                '6M_Momentum': [latest_momentum],\n",
    "                                'Future_Return': [future_return]})\n",
    "        \n",
    "        # Concatenate with the main DataFrame\n",
    "        momentum_return_data = pd.concat([momentum_return_data, temp_df], ignore_index=True)\n",
    "\n",
    "# Drop any rows with NaN values\n",
    "momentum_return_data.dropna(inplace=True)\n",
    "\n",
    "if not momentum_return_data.empty:\n",
    "    # Linear regression\n",
    "    X = momentum_return_data['6M_Momentum']\n",
    "    y = momentum_return_data['Future_Return']\n",
    "    X = sm.add_constant(X)  # Adds a constant term to the predictor\n",
    "\n",
    "    # Fit the model\n",
    "    model = sm.OLS(y, X).fit()\n",
    "    r_squared = model.rsquared\n",
    "\n",
    "    print(f\"R-squared value: {r_squared}\")\n",
    "else:\n",
    "    print(\"Insufficient data for regression analysis.\")\n"
   ]
  },
  {
   "cell_type": "code",
   "execution_count": null,
   "metadata": {},
   "outputs": [],
   "source": []
  }
 ],
 "metadata": {
  "kernelspec": {
   "display_name": "markov",
   "language": "python",
   "name": "python3"
  },
  "language_info": {
   "codemirror_mode": {
    "name": "ipython",
    "version": 3
   },
   "file_extension": ".py",
   "mimetype": "text/x-python",
   "name": "python",
   "nbconvert_exporter": "python",
   "pygments_lexer": "ipython3",
   "version": "3.11.0"
  }
 },
 "nbformat": 4,
 "nbformat_minor": 2
}
